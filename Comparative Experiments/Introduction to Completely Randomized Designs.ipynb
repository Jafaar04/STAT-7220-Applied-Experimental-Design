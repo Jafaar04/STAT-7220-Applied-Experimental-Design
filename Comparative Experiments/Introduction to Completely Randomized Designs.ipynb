{
  "cells": [
    {
      "cell_type": "markdown",
      "id": "fa60deec",
      "metadata": {
        "id": "fa60deec"
      },
      "source": [
        "# Experiments Involving Group Comparison\n",
        "# The Effects Model and Completely Randomized Designs\n",
        "## Dr Austin R Brown\n",
        "## School of Data Science and Analytics\n",
        "### Kennesaw State University\n"
      ]
    },
    {
      "cell_type": "code",
      "execution_count": 1,
      "id": "c32244db",
      "metadata": {
        "id": "c32244db",
        "outputId": "b7a1d057-2143-4f10-ec97-d2b638b85189",
        "colab": {
          "base_uri": "https://localhost:8080/"
        }
      },
      "outputs": [
        {
          "output_type": "stream",
          "name": "stdout",
          "text": [
            "📥 Cloning repo from https://github.com/Jafaar04/STAT-7220-Applied-Experimental-Design.git...\n",
            "📂 Changed directory to: /content/STAT-7220-Applied-Experimental-Design\n",
            "🔗 Connected to fork at: https://github.com/Jafaar04/STAT-7220-Applied-Experimental-Design.git\n",
            "📂 Changed directory to: /content/STAT-7220-Applied-Experimental-Design/Comparative Experiments\n"
          ]
        }
      ],
      "source": [
        "# === COURSE REPO SETUP === #\n",
        "\n",
        "# 1. ENTER your GitHub username (the one that owns your fork)\n",
        "github_username = \"Jafaar04\"\n",
        "\n",
        "# 2. Name of the repo (don't change unless your fork name is different)\n",
        "repo_name = \"STAT-7220-Applied-Experimental-Design\"\n",
        "\n",
        "# 3. Build the full repo URL for cloning\n",
        "repo_url = f\"https://github.com/{github_username}/{repo_name}.git\"\n",
        "\n",
        "import os\n",
        "\n",
        "# --- Detect if we're already in a repo ---\n",
        "cwd = os.getcwd()\n",
        "if cwd.endswith(repo_name):\n",
        "    print(f\"✅ Already inside repo folder: {cwd}\")\n",
        "else:\n",
        "    # --- If the repo folder exists, check if it's nested ---\n",
        "    if os.path.exists(repo_name):\n",
        "        print(f\"⚠️ Found existing folder '{repo_name}'. Skipping clone to avoid nesting.\")\n",
        "    else:\n",
        "        print(f\"📥 Cloning repo from {repo_url}...\")\n",
        "        os.system(f\"git clone {repo_url}\")\n",
        "\n",
        "    # --- Change to repo directory ---\n",
        "    if os.path.exists(repo_name):\n",
        "        os.chdir(repo_name)\n",
        "        print(f\"📂 Changed directory to: {os.getcwd()}\")\n",
        "    else:\n",
        "        print(\"❌ ERROR: Repo folder not found. Please check your GitHub username.\")\n",
        "\n",
        "# --- Check if this is the instructor's repo instead of student's fork ---\n",
        "# This command needs to be run from within the repository directory\n",
        "remote_url = os.popen(\"git config --get remote.origin.url\").read().strip()\n",
        "\n",
        "if \"abrown9008\" in remote_url:\n",
        "    print(\"⚠️ WARNING: You are working in the instructor's repo, not your fork!\")\n",
        "    print(\"💡 Please fork the repo to your own account and update `github_username` above.\")\n",
        "else:\n",
        "    print(f\"🔗 Connected to fork at: {remote_url}\")\n",
        "\n",
        "# Set Today's Directory #\n",
        "\n",
        "today_dir = \"Comparative Experiments\"\n",
        "os.chdir(today_dir)\n",
        "print(f\"📂 Changed directory to: {os.getcwd()}\")"
      ]
    },
    {
      "cell_type": "markdown",
      "id": "00197c29",
      "metadata": {
        "id": "00197c29"
      },
      "source": [
        "## Introduction\n",
        "\n",
        "- In the last section, we learned some of the basics of experimental design.\n",
        "\n",
        "- In this section, we will begin to learn about specific *designs* we can employ to analyze our data and answer our research questions.\n",
        "\n",
        "- Let's begin by discussing an example.\n",
        "\n",
        "### Example Research Scenario\n",
        "\n",
        "- Suppose we work for a company that manufactures high-end canned beverage coolers (like koozies!). We are considering launching a new cooler and have two designs in mind. One design uses hard plastic and the other uses stainless steel. Since our goal is to maximize the amount of time the beverage stays cold, we want to know which design is better at keeping the beverage cold.\n",
        "\n",
        "#### Planning the Experiment\n",
        "\n",
        "- Now that we have a general sense of what our goal is with the experiment, we need to plan the experiment.\n",
        "\n",
        "- Recall from the last section that the steps in planning a successful experiment are:\n",
        "\n",
        "    1. Define the objective\n",
        "    2. Decide what the outcome is (and how it will be measured)\n",
        "    3. Determine the independent variables and possible lurking variables\n",
        "    4. Choose the design\n",
        "    5. Be clear on data collection processes/procedures\n",
        "    6. Be clear on which analyses will be performed\n",
        "    7. Draw conclusions\n",
        "\n",
        "##### Define the Objective\n",
        "\n",
        "- First, we must define the objective.\n",
        "\n",
        "- Here, our objective is to determine which of the two cooler materials is better at keeping canned beverages cold.\n",
        "\n",
        "##### Specify the Outcome\n",
        "\n",
        "- Next, we must decide what our outcome variable is and how we will measure it.\n",
        "\n",
        "- You can probably think of several ways to do this, but for the sake of this example, let's define the outcome as the temperature of the beverage (in degrees Fahrenheit) after it has been in the cooler for two hours.\n",
        "\n",
        "##### Determine the Independent Variable & Possible Lurking Variables\n",
        "\n",
        "- Now, we need to decide what our independent variable will be an what potential lurking variables may exist.\n",
        "\n",
        "- Our IV will be the material type.\n",
        "\n",
        "- While we may have some lurking variables depending on the way we conduct the experiment, we can eliminate many if not all of them by having careful control over:\n",
        "    - Starting temperature of the canned beverages\n",
        "    - Consistency of room temperature in room where the cans will be set out for two hours\n",
        "\n",
        "- To control the starting temperature of the canned beverages, we can keep the cans in the same refrigerator for 24 hours prior to the experiment.\n",
        "\n",
        "- To control the consistency of the room temperature, we will place the cans on a table in a room kept at a consistent temperature and with the window shades closed.\n",
        "\n",
        "#### Choose the Design\n",
        "\n",
        "- In our syllabus, you can see that we have lots of different designs to choose from (e.g., completely randomized design, split-plot, $2^k$, etc.).\n",
        "\n",
        "- The choice of design is largely a function of our independent variable(s) and how we are conducting the experiment.\n",
        "\n",
        "- Perhaps the most important element of any experimental design are the concepts of *replication* and *randomization*.\n",
        "\n",
        "- **Randomization** means that our experimental units are randomly partitioned into treatment groups.\n",
        "\n",
        "    - Recall from the email marketing example in the last section, our customer base was randomly assigned to be in either the generic email group or the personalized email group. This is an example of randomization.\n",
        "\n",
        "- Randomization is an important way to eliminate potential sources of variability to ensure that the conclusions we draw are accurate.\n",
        "\n",
        "- In the email example, imagine we didn't do randomization and we accidentally assigned all female customers to the generic group and all male customers to the personalized group.\n",
        "    - Whatever differences we observe between the email groups will be *confounded* with customer sex.\n",
        "\n",
        "- **Replication** refers to having more than one experimental unit in a specific treatment group.\n",
        "\n",
        "- In our cooler example, we would not perform the temperature test by using only one can in the hard plastic cooler and one in the stainless steel cooler. We would want more *replicates* (typically denoted by $r$).\n",
        "\n",
        "    - Why? Two reasons!\n",
        "\n",
        "- First, without replication, we wouldn't be able to tell if treatment differences are real or just a random manifestation of the particular experimental units used in the study.\n",
        "\n",
        "- Second and relatedly, when we only have one replicate, we don't have variance (the variance of a constant is 0, as you will learn in mathematical statistics).\n",
        "\n",
        "- And if we don't have variance, none of our hypothesis tests will work!\n",
        "\n",
        "- Deciding on the value of $r$ can be a statistical conversation (i.e., power analysis) but often it's a practical one (how much time or money will it cost me to produce a certain number of replicates?).\n",
        "\n",
        "- Now, circling back to choosing a specific design, in our case, our experimental units (the canned beverages) are essentially the same. Through our procedure of performing the experiment, we've eliminated any other major lurking variables.\n",
        "\n",
        "- Thus, the best design for comparing the effects of our two treatment groups would be a **completely randomized design**.\n",
        "\n",
        "- In a **CRD**, all experimental units are randomly assigned to a treatment and each unit has an equal chance of being in one of the treatment groups.\n",
        "\n",
        "    - For us, we could number each can and use the Python function `sample` which is part of the `random` package in order to determine which can goes into which cooler.\n",
        "\n",
        "- Suppose we decide to have $r=30$ replicates for each of our $t=2$ treatment groups to make for a total sample size of $n = r\\times t = 30 \\times 2 = 60$.\n",
        "\n",
        "- We would number our cans 1 - 60. Then using `random.sample`:"
      ]
    },
    {
      "cell_type": "code",
      "execution_count": null,
      "id": "810cfcac",
      "metadata": {
        "id": "810cfcac",
        "outputId": "d0932a42-6b1c-4e8f-8e12-07e9c082b88e"
      },
      "outputs": [
        {
          "name": "stdout",
          "output_type": "stream",
          "text": [
            "[[ 1  2]\n",
            " [ 3  8]\n",
            " [ 4 10]]\n"
          ]
        }
      ],
      "source": [
        "## Import the random package\n",
        "## and the numpy package ##\n",
        "\n",
        "import random\n",
        "import numpy as np\n",
        "\n",
        "## Set Seed (for reproducability) ##\n",
        "\n",
        "random.seed(123)\n",
        "\n",
        "## Specify can numbers ##\n",
        "\n",
        "cans = list(range(1,61)) # remember, python starts at 0 not 1\n",
        "\n",
        "## Take a random sample of cans for the plastic\n",
        "## group of size 30 ##\n",
        "\n",
        "plastic = random.sample(cans,30)\n",
        "\n",
        "## The elements from cans not in plastic\n",
        "## will be assigned to steel ##\n",
        "\n",
        "steel = [item for item in cans if item not in plastic]\n",
        "\n",
        "## Sort both lists in ascending order ##\n",
        "\n",
        "plastic.sort()\n",
        "steel.sort()\n",
        "\n",
        "## Combine the lists and print first few\n",
        "## elements ##\n",
        "\n",
        "combined_random = np.column_stack((plastic,steel))\n",
        "print(combined_random[:3])"
      ]
    },
    {
      "cell_type": "markdown",
      "id": "3082204b",
      "metadata": {
        "id": "3082204b"
      },
      "source": [
        "- So the first three cans in the plastic treatment group are 1, 3, and 4. The first three cans in the steel group are 2, 8, and 10.\n",
        "\n",
        "#### Be Clear on Data Collection Processes and Procedures\n",
        "\n",
        "- We've already discussed some of our processes and procedures but we should go into more detail on some others!\n",
        "\n",
        "- For instance, the canned beverage we choose should be exactly the same one. So let's choose regular 12 ounce Coca-Cola cans.\n",
        "\n",
        "- The 60 Coke cans will go into the fridge at exactly the same time and all removed at the exact same time.\n",
        "\n",
        "- It would be best if we could have a team of people working together to place the cans into the coolers to ensure that they spend almost exactly the same amount of time in their respective coolers.\n",
        "\n",
        "- To measure beverage temperature, we will open all of the cans at nearly the same time and use a digital thermometer to measure the temperature of each canned beverage.\n",
        "\n",
        "- Measurements for each can will be recorded in an Excel Spreadsheet (contained in the \"Can Temperature.xlsx\" file)\n",
        "\n",
        "#### Be Clear on the Analyses to be Performed\n",
        "\n",
        "- Generally when performing any analysis, I like to perform both a descriptive analysis first followed by inferential analysis.\n",
        "\n",
        "- Doing both tends to yield more information rather than just one or the other.\n",
        "\n",
        "- In our case, since we're comparing a quantitative variable across two groups, we have specific descriptive and inferential techniques to analyze these data:\n",
        "\n",
        "##### Descriptive Analyses: Means and Standard Deviations\n",
        "\n",
        "- Perhaps the most straightforward descriptive analyses we could do in the case of the cooler data is calculate the sample mean temperature and sample standard deviation temperature for each group.\n",
        "\n",
        "- Recall, the sample mean for group $i$ is defined as:\n",
        "\n",
        "$$ \\bar{y}_{i\\cdot} = \\frac{1}{r_i}\\sum_{j=1}^{r_i}y_{ij} $$\n",
        "\n",
        "- Here, $r_i$ is the sample size (number of replicates) for group $i$.\n",
        "\n",
        "- We interpret the mean as the expected value of a group of data points.\n",
        "\n",
        "- In other words, it's our best guess as to the value of a randomly selected experimental unit in a given group.\n",
        "\n",
        "- The sample standard deviation is calculated by:\n",
        "\n",
        "$$ s_i = \\sqrt{\\frac{1}{r_i-1}\\sum_{j=1}^{r_i}(y_{ij} - \\bar{y}_{i\\cdot})^2} $$\n",
        "\n",
        "- Very simply, we can think of sample standard deviation as our best guess as to how far away a randomly selected observation is from the sample mean, on average (in both the positive and negative direction).\n",
        "\n",
        "- To perform these calculations in Python, we can use our old friends `pandas` and `numpy`:"
      ]
    },
    {
      "cell_type": "code",
      "execution_count": null,
      "id": "af97cc7a",
      "metadata": {
        "id": "af97cc7a",
        "outputId": "91042643-9321-43d5-e18e-0833701443ad"
      },
      "outputs": [
        {
          "name": "stdout",
          "output_type": "stream",
          "text": [
            "<class 'pandas.core.frame.DataFrame'>\n",
            "RangeIndex: 60 entries, 0 to 59\n",
            "Data columns (total 3 columns):\n",
            " #   Column       Non-Null Count  Dtype  \n",
            "---  ------       --------------  -----  \n",
            " 0   Can Number   60 non-null     int64  \n",
            " 1   Treatment    60 non-null     object \n",
            " 2   Temperature  60 non-null     float64\n",
            "dtypes: float64(1), int64(1), object(1)\n",
            "memory usage: 1.5+ KB\n",
            "None\n",
            "                mean       std\n",
            "Treatment                     \n",
            "Plastic    34.431333  1.839094\n",
            "Steel      33.068667  1.980323\n"
          ]
        }
      ],
      "source": [
        "## Note, you may need to install\n",
        "## openpyxl to have the read_excel\n",
        "## function work correctly ##\n",
        "\n",
        "#%pip install openpyxl\n",
        "\n",
        "## Import pandas ##\n",
        "\n",
        "import pandas as pd\n",
        "\n",
        "## Import Can Temperature.xlsx File ##\n",
        "\n",
        "can_data = pd.read_excel(\"Can Temperature.xlsx\")\n",
        "\n",
        "## Integrity Check ##\n",
        "\n",
        "print(can_data.info())\n",
        "\n",
        "## Group the dataframe by the \"Treatment\"\n",
        "## column and calculate mean/sd for the\n",
        "## \"Temperature\" column ##\n",
        "\n",
        "summary_stats = can_data.groupby('Treatment')['Temperature'].agg(['mean','std'])\n",
        "\n",
        "print(summary_stats)"
      ]
    },
    {
      "cell_type": "markdown",
      "id": "bd3a4a5e",
      "metadata": {
        "id": "bd3a4a5e"
      },
      "source": [
        "- So we can see from these data that the mean temperature of the cans of Coca-Cola were 34.43 degrees for the plastic coolers and 33.07 degrees for the steel coolers.\n",
        "\n",
        "- In the context of beverage coolers, a roughly 1.5 degree difference may be meaningfully large!\n",
        "\n",
        "- Let's see how we can visualize these differences using the boxplot via the `matplotlib` and `seaborn` packages:"
      ]
    },
    {
      "cell_type": "code",
      "execution_count": null,
      "id": "69cf2e95",
      "metadata": {
        "id": "69cf2e95",
        "outputId": "961f0705-f658-4924-f642-fc00403211a7"
      },
      "outputs": [
        {
          "data": {
            "text/plain": [
              "Text(0, 0.5, 'Temperature (Degrees Fahrenheit)')"
            ]
          },
          "execution_count": null,
          "metadata": {},
          "output_type": "execute_result"
        },
        {
          "data": {
            "image/png": "[encoded data removed]",
            "text/plain": [
              "<Figure size 640x480 with 1 Axes>"
            ]
          },
          "metadata": {},
          "output_type": "display_data"
        }
      ],
      "source": [
        "## Install matplotlib and seaborn ##\n",
        "\n",
        "#%pip install matplotlib seaborn\n",
        "\n",
        "import seaborn as sns\n",
        "import matplotlib.pyplot as plt\n",
        "\n",
        "## Set a nice minimal style for plot ##\n",
        "\n",
        "sns.set_style(\"whitegrid\")\n",
        "\n",
        "## Create boxplot using seaborn ##\n",
        "\n",
        "sns.boxplot(x=\"Treatment\",y=\"Temperature\",data=can_data)\n",
        "\n",
        "## Add Title and Labels using matplotlib ##\n",
        "\n",
        "plt.title(\"Boxplot of Can Temperatures by Cooler Type\", loc='center')\n",
        "plt.xlabel(\"Cooler Type\")\n",
        "plt.ylabel(\"Temperature (Degrees Fahrenheit)\")"
      ]
    },
    {
      "cell_type": "markdown",
      "id": "f33dcb92",
      "metadata": {
        "id": "f33dcb92"
      },
      "source": [
        "- Remember, a boxplot consists of 5 numbers. When we look at the box itself, the bottom, middle-line, and top of the box represent the 25th, 50th, and 75th percentiles, respectively.\n",
        "\n",
        "    -   We can think of the width of the box (interquartile range, the difference between the 75th and 25th percentiles) as a measure of variability.\n",
        "\n",
        "- The lines going out of the top and bottom of the box have a length of 1.5 times the interquartile range.\n",
        "\n",
        "- Any points plotting above or below the upper or lower line can generally be thought of as *outliers*.\n",
        "\n",
        "- The way I generally interpret boxplots is by looking at the degree of overlap.\n",
        "\n",
        "    - If the boxes have substantial overlap, that means they have similar distributions and likely don't meaningfully differ.\n",
        "\n",
        "    - If the boxes do not substantially overlap, then that means the distributions have some degree (perhaps a meaningful degree!) of difference.\n",
        "\n",
        "- In our case, there is some overlap but not one I would consider substantial. It appears, empirically, that we have evidence of a meaningful difference in the can temperatures between the two treatment groups.\n",
        "\n",
        "##### Inferential Analysis: The Effects Model\n",
        "\n",
        "- After we perform our descriptive analysis, the next step is to perform the inferential analysis.\n",
        "\n",
        "- In general, we can describe pretty much every **supervised learning technique** (that is, a model with an outcome variable and at least one explanatory/independent variable) can be described as a function.\n",
        "\n",
        "- Remember from regression, the simple linear regression model can be written as:\n",
        "\n",
        "$$y_{i} = \\beta_0 + \\beta_1x_i + \\varepsilon_i $$\n",
        "\n",
        "- When working with categorical independent variables, like we are here, we can still write our model as a regression model, but we generally use slightly different notation:\n",
        "\n",
        "$$ y_{ij} = \\mu + \\tau_i + \\varepsilon_{ij} $$\n",
        "\n",
        "- This specific written model is called the **effects model**.\n",
        "\n",
        "    - $y_{ij}$ represents the $j$th replicate in the $i$th treatment group,\n",
        "    - $\\mu$ represents the grand or overall mean of all the observations,\n",
        "    - the $\\tau_i$'s are called the *effects* (the difference between the individual group means and the grand mean), and\n",
        "    - $\\varepsilon_{ij}$ denotes the residual (or random error) term associated with the $j$th replicate in the $i$th treatment group.\n",
        "\n",
        "- Akin to regression, we have distributional assumptions in the effects model. Specifically:\n",
        "\n",
        "$$ Y_{ij} \\sim N(\\mu+\\tau_i,\\sigma^2) $$\n",
        "$$ \\varepsilon_{ij} \\sim N(0,\\sigma^2) $$\n",
        "\n",
        "- So once we have collected real data like we have in the `can_data` dataframe, how do we go about estimating $\\mu$ and the $\\tau_i$'s?\n",
        "\n",
        "- Just like we do in regression, we use least-squares estimation! The LSEs for the group means are the same calculations given for the sample means previously in these slides.\n",
        "\n",
        "- The LSE for $\\mu$, say $\\hat{\\mu}$, is given by:\n",
        "\n",
        "$$ \\hat{\\mu} = \\bar{y}_{\\cdot\\cdot} = \\frac{1}{t}\\sum_{i=1}^t\\bar{y}_{i\\cdot} $$\n",
        "\n",
        "- Thus, the $\\tau_{i}$ LSEs, say $\\hat{\\tau}_{i}$, is given by:\n",
        "\n",
        "$$ \\hat{\\tau}_i = \\bar{y}_{i\\cdot} - \\bar{y}_{\\cdot\\cdot} $$\n",
        "\n",
        "- Let's see how we can estimate these values with the `car_data` using Python:"
      ]
    },
    {
      "cell_type": "code",
      "execution_count": null,
      "id": "35ea4378",
      "metadata": {
        "id": "35ea4378",
        "outputId": "f54df6de-c22e-427b-b3e2-bb08b90f9091"
      },
      "outputs": [
        {
          "name": "stdout",
          "output_type": "stream",
          "text": [
            "Grand Mean: 33.75000000000001\n",
            "\n",
            "Group Means:\n",
            "  Treatment  mean_temp\n",
            "0   Plastic  34.431333\n",
            "1     Steel  33.068667\n",
            "\n",
            "Tau Hats:\n",
            "0    0.681333\n",
            "1   -0.681333\n",
            "Name: mean_temp, dtype: float64\n"
          ]
        }
      ],
      "source": [
        "## Calculate the Grand Mean of Temperature ##\n",
        "\n",
        "mu_hat = can_data['Temperature'].mean()\n",
        "\n",
        "## Calculate the group means of Temperature, grouped by Treatment ##\n",
        "\n",
        "group_means = can_data.groupby('Treatment')['Temperature'].mean().reset_index()\n",
        "group_means = group_means.rename(columns={'Temperature': 'mean_temp'})\n",
        "\n",
        "## Calculate the difference between group means and the grand mean ##\n",
        "\n",
        "tau_hat = group_means['mean_temp'] - mu_hat\n",
        "\n",
        "## Print Results ##\n",
        "\n",
        "print(\"Grand Mean:\", mu_hat)\n",
        "print(\"\\nGroup Means:\")\n",
        "print(group_means)\n",
        "print(\"\\nTau Hats:\")\n",
        "print(tau_hat)"
      ]
    },
    {
      "cell_type": "markdown",
      "id": "9eccf359",
      "metadata": {
        "id": "9eccf359"
      },
      "source": [
        "- Note, in this case where we only have two treatment groups, the $\\hat{\\tau}_i$'s will just be the opposite sign of each other.\n",
        "\n",
        "- Okay, now that we've put everything together, what statistical test do we run to determine if the difference we see in the group means and subsequently the $\\hat{\\tau}_i$'s is statistically meaningful or not?\n",
        "\n",
        "###### Statistical Hypotheses\n",
        "\n",
        "- First, what are our statistical hypotheses?\n",
        "\n",
        "- In words, the null hypothesis, $H_0$, is that all the group means are equal. In mathematical notation:\n",
        "\n",
        "$$ H_0: \\mu_1 = \\mu_2 = \\dots = \\mu_i $$\n",
        "\n",
        "- In words, the alternative hypothesis, $H_1$, is that at least two of the group means differ. The mathematical notation is essentially the same as the words.\n",
        "\n",
        "- In our case:\n",
        "\n",
        "$$ H_0: \\mu_{\\text{Plastic}} = \\mu_{\\text{Steel}} $$\n",
        "\n",
        "$$ H_1: \\mu_{\\text{Plastic}} \\neq \\mu_{\\text{Steel}} $$\n",
        "\n",
        "- Our next step would be to calculate our test statistic. For the effects model, what is our test statistic?\n",
        "\n",
        "$$ F_{\\text{Stat}} = \\frac{SSTreat/(t-1)}{SSE/(n-t)} \\sim F(t-1,n-t) $$\n",
        "$ SSTreat = \\sum_{i=1}^{t}r_i(\\bar{y}_{i\\cdot} - \\bar{y}_{\\cdot\\cdot})^2 $$\n",
        "$$ SSE = \\sum_{i=1}^{t}\\sum_{j=1}^{r_t}(y_{ij} - \\bar{y}_{i\\cdot})^2 $$\n",
        "\n",
        "- If our $F_{\\text{Stat}} > F_{cv}$, where we typically choose $F_{cv}$ such that $\\alpha = 0.05$ and $F_{cv} \\sim F(t-1,n-t)$, then this indicates that the data more strongly support the alternative hypothesis.\n",
        "\n",
        "- If the converse is true, $F_{\\text{Stat}} < F_{cv}$, then this indicates that the data more strongly support the null hypothesis.\n",
        "\n",
        "- How do we calculate all of this in Python? Fortunately for us, we can do this with the `ols` function (ols being short for \"ordinary least squares\") which is part of the `statsmodels.api` package:"
      ]
    },
    {
      "cell_type": "code",
      "execution_count": null,
      "id": "89732073",
      "metadata": {
        "id": "89732073",
        "outputId": "807019f5-b683-4998-8771-1ff50933c80b"
      },
      "outputs": [
        {
          "name": "stdout",
          "output_type": "stream",
          "text": [
            "             df      sum_sq    mean_sq         F    PR(>F)\n",
            "Treatment   1.0   27.852907  27.852907  7.626809  0.007689\n",
            "Residual   58.0  211.814493   3.651974       NaN       NaN\n"
          ]
        }
      ],
      "source": [
        "## Install statsmodels.api ##\n",
        "#%pip install statsmodels\n",
        "\n",
        "## Import statsmodels ##\n",
        "\n",
        "import statsmodels.api as sm\n",
        "from statsmodels.formula.api import ols\n",
        "\n",
        "## Fit One-Way ANOVA Model ##\n",
        "\n",
        "mod = ols(\"Temperature ~ Treatment\", data=can_data).fit()\n",
        "\n",
        "## Get the ANOVA table ##\n",
        "\n",
        "aov_tab = sm.stats.anova_lm(mod,typ=1)\n",
        "\n",
        "print(aov_tab)"
      ]
    },
    {
      "cell_type": "markdown",
      "id": "ff52908d",
      "metadata": {
        "id": "ff52908d"
      },
      "source": [
        "- As we can see, the F-statistic is 7.63 and its associated p-value is 0.008.\n",
        "\n",
        "- Since p (which is the probability of observing a test statistic of greater magnitude in a world where we assume $H_0$ is true) is less than our typically used $\\alpha$ threshold of 0.05, this indicates to us that our data more strongly support the alternative hypothesis.\n",
        "\n",
        "- In more contextual language, our data support the notion that the stainless steel cooler keeps canned beverages meaningfully colder than the hard plastic cooler.\n",
        "\n",
        "##### Inferential Analysis: Two Group Case\n",
        "\n",
        "- Now, in the case when we have only two treatment groups, like we do here, this F-test can be somewhat simplified into an independent means $t$-test.\n",
        "\n",
        "- The statistical hypotheses stay the same but the test statistic can be rewritten as:\n",
        "\n",
        "$$ t_{\\text{Stat}} = \\frac{\\bar{y}_1 - \\bar{y}_2}{\\sqrt{s^2_{\\text{Pooled}}\\bigg(\\frac{1}{r_1} + \\frac{1}{r_2}\\bigg)}} \\sim t(r_1 + r_2 - 2)$$\n",
        "\n",
        "- where:\n",
        "\n",
        "$$ s^2_{\\text{Pooled}} = \\frac{(r_1 - 1)s_1^2 + (r_2 - 1)s_2^2}{r_1 + r_2 - 2} $$\n",
        "\n",
        "- If $|t_{\\text{Stat}}| > t_{cv}$, then we conclude that our data more strongly support the alternative hypothesis.\n",
        "\n",
        "- Note, $t_{\\text{Stat}}^2 = F_{\\text{Stat}}$. So technically an independent means t-test can be performed as a one-way ANOVA with two groups.\n",
        "\n",
        "## Your Turn!\n",
        "\n",
        "- Let's say we work for a dog toy manufacturing company. We want to manufacture rubber tennis balls for dogs to be able to play with and chew on that are designed to last. As you may know, some dogs who are of certain breeds and/or are aggressive chewers can break toys very easily. We want to avoid that as much as possible with our rubber tennis balls. Our engineers have come up with two different formulations of hard rubber that can be used to manufacture these balls. Let's denote these as Formula 1 and Formula 2.\n",
        "\n",
        "- To decide which formulation to use, we want to perform a pressure test to simulate the pressure these rubber tennis balls might experience being clamped down on by a dog's jaw. We test 60 balls of each formulation by putting them each under a hydraulic press and recording the amount of pressure exerted (in PSI) when the ball rips.\n",
        "\n",
        "- The data for this experiment are contained in the \"Dog Toys.xlsx\" file.\n",
        "\n",
        "- With these data, I want you to create a .ipynb file where you answer the following questions (check the answer key in the Dog Toys Example notebook!):\n",
        "\n",
        "    1. Specify the outcome and independent variables. What lurking variables might be present?\n",
        "    2. Briefly explain why a completely randomized design might be appropriate in this context\n",
        "    3. Perform an appropriate exploratory analysis\n",
        "    4. Perform an appropriate inferential analysis (including the specification of $H_0$ and $H_1$)\n",
        "    5. Provide contextual conclusions -- which formulation seems more durable?\n",
        "    6. What questions remain?"
      ]
    }
  ],
  "metadata": {
    "language_info": {
      "name": "python"
    },
    "colab": {
      "provenance": []
    },
    "kernelspec": {
      "name": "python3",
      "display_name": "Python 3"
    }
  },
  "nbformat": 4,
  "nbformat_minor": 5
}